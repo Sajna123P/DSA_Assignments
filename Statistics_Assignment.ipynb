{
 "cells": [
  {
   "cell_type": "code",
   "execution_count": 2,
   "id": "f23ca8ea",
   "metadata": {},
   "outputs": [
    {
     "name": "stdout",
     "output_type": "stream",
     "text": [
      "Reject null hypothesis: The digital marketing strategy has increased sales\n"
     ]
    }
   ],
   "source": [
    "#2. A company started to invest in digital marketing as a new way of their product promotions. For that they collected \n",
    "#data and decided to carry out a study on it.\n",
    "#a. The company wishes to clarify whether there is any increase in sales after stepping into digital marketing.\n",
    "\n",
    "import scipy.stats as stats\n",
    "import pandas as pd\n",
    "import numpy as np\n",
    "\n",
    "data = pd.read_csv('Sales_add.csv')\n",
    "\n",
    "alpha = 0.05\n",
    "t_value,p_value = stats.ttest_ind(data['Sales_before_digital_add(in $)'],data['Sales_After_digital_add(in $)'])\n",
    "if p_value < alpha:\n",
    "    print('Reject null hypothesis: The digital marketing strategy has increased sales')\n",
    "else:\n",
    "    print('Do not reject null hypothesis: The digital marketing strategy does not have any effect on sales ')\n",
    "    "
   ]
  },
  {
   "cell_type": "code",
   "execution_count": 3,
   "id": "7857d45a",
   "metadata": {},
   "outputs": [
    {
     "name": "stdout",
     "output_type": "stream",
     "text": [
      "                            sum_sq    df         F    PR(>F)\n",
      "C(Region)             1.114049e+09   2.0  0.810150  0.466032\n",
      "C(Manager)            2.568861e+09   2.0  1.868109  0.193579\n",
      "C(Region):C(Manager)  8.388157e+08   4.0  0.304999  0.869479\n",
      "Residual              8.938238e+09  13.0       NaN       NaN\n"
     ]
    }
   ],
   "source": [
    "#b. The company needs to check whether there is any dependency between the features “Region” and “Manager”.\n",
    "\n",
    "import statsmodels.api as sm\n",
    "from statsmodels.formula.api import ols\n",
    "\n",
    "data['Sales'] = data['Sales_After_digital_add(in $)']\n",
    "\n",
    "sales_model = ols('Sales ~ C(Region):C(Manager) + C(Region) + C(Manager)',data = data).fit()\n",
    "table = sm.stats.anova_lm(sales_model,typ = 2)\n",
    "print(table)"
   ]
  },
  {
   "cell_type": "code",
   "execution_count": 7,
   "id": "de628434",
   "metadata": {},
   "outputs": [
    {
     "name": "stdout",
     "output_type": "stream",
     "text": [
      "There is no significant dependancy between the features \"Region\" and \"Manager\" \n"
     ]
    }
   ],
   "source": [
    "alpha = 0.05\n",
    "if table['PR(>F)'][2] < alpha:\n",
    "    print('There is significant dependancy between the features \"Region\" and \"Manager\" ')\n",
    "else:\n",
    "    print('There is no significant dependancy between the features \"Region\" and \"Manager\" ')"
   ]
  },
  {
   "cell_type": "code",
   "execution_count": 9,
   "id": "21f68626",
   "metadata": {},
   "outputs": [
    {
     "name": "stdout",
     "output_type": "stream",
     "text": [
      "   gender race/ethnicity parental level of education         lunch  \\\n",
      "0  female        group C            some high school  free/reduced   \n",
      "1  female        group B                 high school  free/reduced   \n",
      "2  female        group B            some high school  free/reduced   \n",
      "3  female        group B                some college      standard   \n",
      "4  female        group C                some college  free/reduced   \n",
      "\n",
      "  test preparation course  math score  reading score  writing score  \n",
      "0                    none           0             17             10  \n",
      "1                    none           8             24             23  \n",
      "2                    none          18             32             28  \n",
      "3                    none          11             38             32  \n",
      "4                    none          22             39             33  \n",
      "\n",
      "The number of students participated in the test based on gender :-\n"
     ]
    },
    {
     "data": {
      "text/plain": [
       "female    518\n",
       "male      482\n",
       "Name: gender, dtype: int64"
      ]
     },
     "execution_count": 9,
     "metadata": {},
     "output_type": "execute_result"
    }
   ],
   "source": [
    "#1. An Institution wishes to find out their student’s ability in mathematics, reading and writing skills. The Institution \n",
    "#wants to do an exploratory study to check the following information.\n",
    "#a. Find out how many males and females participated in the test\n",
    "\n",
    "score_data = pd.read_csv('Students_Performance.csv')\n",
    "print(score_data.head())\n",
    "print('\\nThe number of students participated in the test based on gender :-')\n",
    "score_data['gender'].value_counts()"
   ]
  },
  {
   "cell_type": "code",
   "execution_count": 22,
   "id": "0c247886",
   "metadata": {},
   "outputs": [
    {
     "data": {
      "text/plain": [
       "some college          226\n",
       "associate's degree    222\n",
       "high school           196\n",
       "some high school      179\n",
       "bachelor's degree     118\n",
       "master's degree        59\n",
       "Name: parental level of education, dtype: int64"
      ]
     },
     "execution_count": 22,
     "metadata": {},
     "output_type": "execute_result"
    }
   ],
   "source": [
    "#b. What do you think about the students' parental level of education?\n",
    "\n",
    "score_data['parental level of education'].value_counts()"
   ]
  },
  {
   "cell_type": "code",
   "execution_count": 23,
   "id": "de04af3a",
   "metadata": {},
   "outputs": [
    {
     "name": "stdout",
     "output_type": "stream",
     "text": [
      "Parental level of education is good\n"
     ]
    }
   ],
   "source": [
    "print('Parental level of education is good')"
   ]
  },
  {
   "cell_type": "code",
   "execution_count": 24,
   "id": "f39d3435",
   "metadata": {},
   "outputs": [
    {
     "name": "stdout",
     "output_type": "stream",
     "text": [
      "THE AVERAGES TABLE:\n"
     ]
    },
    {
     "data": {
      "text/html": [
       "<div>\n",
       "<style scoped>\n",
       "    .dataframe tbody tr th:only-of-type {\n",
       "        vertical-align: middle;\n",
       "    }\n",
       "\n",
       "    .dataframe tbody tr th {\n",
       "        vertical-align: top;\n",
       "    }\n",
       "\n",
       "    .dataframe thead th {\n",
       "        text-align: right;\n",
       "    }\n",
       "</style>\n",
       "<table border=\"1\" class=\"dataframe\">\n",
       "  <thead>\n",
       "    <tr style=\"text-align: right;\">\n",
       "      <th></th>\n",
       "      <th>math score</th>\n",
       "      <th>reading score</th>\n",
       "      <th>writing score</th>\n",
       "    </tr>\n",
       "    <tr>\n",
       "      <th>gender</th>\n",
       "      <th></th>\n",
       "      <th></th>\n",
       "      <th></th>\n",
       "    </tr>\n",
       "  </thead>\n",
       "  <tbody>\n",
       "    <tr>\n",
       "      <th>female</th>\n",
       "      <td>63.376448</td>\n",
       "      <td>72.590734</td>\n",
       "      <td>72.467181</td>\n",
       "    </tr>\n",
       "    <tr>\n",
       "      <th>male</th>\n",
       "      <td>68.821577</td>\n",
       "      <td>65.545643</td>\n",
       "      <td>63.446058</td>\n",
       "    </tr>\n",
       "  </tbody>\n",
       "</table>\n",
       "</div>"
      ],
      "text/plain": [
       "        math score  reading score  writing score\n",
       "gender                                          \n",
       "female   63.376448      72.590734      72.467181\n",
       "male     68.821577      65.545643      63.446058"
      ]
     },
     "execution_count": 24,
     "metadata": {},
     "output_type": "execute_result"
    }
   ],
   "source": [
    "#c. Who scores the most on average for math, reading and writing based on\n",
    "#i. Gender\n",
    "#ii. Test preparation course\n",
    "\n",
    "print('THE AVERAGES TABLE:')\n",
    "score_data.groupby(by='gender')[['math score','reading score','writing score']].mean()"
   ]
  },
  {
   "cell_type": "code",
   "execution_count": 88,
   "id": "1b725f8c",
   "metadata": {},
   "outputs": [
    {
     "data": {
      "text/plain": [
       "math score          Axes(0.125,0.11;0.227941x0.77)\n",
       "reading score    Axes(0.398529,0.11;0.227941x0.77)\n",
       "writing score    Axes(0.672059,0.11;0.227941x0.77)\n",
       "dtype: object"
      ]
     },
     "execution_count": 88,
     "metadata": {},
     "output_type": "execute_result"
    },
    {
     "data": {
      "image/png": "[encoded data removed]",
      "text/plain": [
       "<Figure size 640x480 with 3 Axes>"
      ]
     },
     "metadata": {},
     "output_type": "display_data"
    }
   ],
   "source": [
    "import matplotlib.pyplot as plt\n",
    "import seaborn as sns\n",
    "score_data.plot(kind='box',by = 'gender')"
   ]
  },
  {
   "cell_type": "markdown",
   "id": "e632777c",
   "metadata": {},
   "source": [
    "From the above plot we understand that male students scored more in maths whereas female students scored more in\n",
    "reading and writing on average."
   ]
  },
  {
   "cell_type": "code",
   "execution_count": 25,
   "id": "b2ce720d",
   "metadata": {},
   "outputs": [
    {
     "name": "stdout",
     "output_type": "stream",
     "text": [
      "THE AVERAGES TABLE:\n",
      "                         math score  reading score  writing score\n",
      "test preparation course                                          \n",
      "completed                  69.96648      74.175978      74.684358\n",
      "none                       63.78972      66.417445      64.457944\n"
     ]
    },
    {
     "data": {
      "text/plain": [
       "math score          Axes(0.125,0.11;0.227941x0.77)\n",
       "reading score    Axes(0.398529,0.11;0.227941x0.77)\n",
       "writing score    Axes(0.672059,0.11;0.227941x0.77)\n",
       "dtype: object"
      ]
     },
     "execution_count": 25,
     "metadata": {},
     "output_type": "execute_result"
    },
    {
     "data": {
      "image/png": "[encoded data removed]",
      "text/plain": [
       "<Figure size 640x480 with 3 Axes>"
      ]
     },
     "metadata": {},
     "output_type": "display_data"
    }
   ],
   "source": [
    "print('THE AVERAGES TABLE:')\n",
    "print(score_data.groupby(by='test preparation course')[['math score','reading score','writing score']].mean())\n",
    "score_data.plot(kind='box',by = 'test preparation course')\n"
   ]
  },
  {
   "cell_type": "markdown",
   "id": "50f0c5f9",
   "metadata": {},
   "source": [
    "From the above plots we understand that students who completed the test preparation course scored more in maths,reading \n",
    "as well as writing on average."
   ]
  },
  {
   "cell_type": "code",
   "execution_count": 26,
   "id": "bd0abfcf",
   "metadata": {},
   "outputs": [
    {
     "name": "stdout",
     "output_type": "stream",
     "text": [
      "THE VARIANCES TABLE:\n",
      "        math score  reading score  writing score\n",
      "gender                                          \n",
      "female  256.958593     207.677438     220.369327\n",
      "male    211.889097     200.211010     202.413924\n",
      "                         math score  reading score  writing score\n",
      "test preparation course                                          \n",
      "completed                210.884027     183.265864     175.202612\n",
      "none                     246.668662     213.419851     226.251739\n"
     ]
    }
   ],
   "source": [
    "# d. What do you think about the scoring variation for  math, reading and writing based on\n",
    "#i. Gender\n",
    "#ii. Test preparation course\n",
    "\n",
    "print('THE VARIANCES TABLE:')\n",
    "print(score_data.groupby(by='gender')[['math score','reading score','writing score']].var())\n",
    "print(score_data.groupby(by='test preparation course')[['math score','reading score','writing score']].var())\n"
   ]
  },
  {
   "cell_type": "markdown",
   "id": "7daeaeb0",
   "metadata": {},
   "source": [
    "Gender wise female scores varies more than males,\n",
    "whereas based on test preparation ,score variation is more for those who did not complete test course"
   ]
  },
  {
   "cell_type": "code",
   "execution_count": 13,
   "id": "6f796666",
   "metadata": {},
   "outputs": [
    {
     "name": "stdout",
     "output_type": "stream",
     "text": [
      "The below table contains the information of top 25% scorers in math:-\n"
     ]
    },
    {
     "data": {
      "text/html": [
       "<div>\n",
       "<style scoped>\n",
       "    .dataframe tbody tr th:only-of-type {\n",
       "        vertical-align: middle;\n",
       "    }\n",
       "\n",
       "    .dataframe tbody tr th {\n",
       "        vertical-align: top;\n",
       "    }\n",
       "\n",
       "    .dataframe thead th {\n",
       "        text-align: right;\n",
       "    }\n",
       "</style>\n",
       "<table border=\"1\" class=\"dataframe\">\n",
       "  <thead>\n",
       "    <tr style=\"text-align: right;\">\n",
       "      <th></th>\n",
       "      <th>gender</th>\n",
       "      <th>race/ethnicity</th>\n",
       "      <th>parental level of education</th>\n",
       "      <th>lunch</th>\n",
       "      <th>test preparation course</th>\n",
       "      <th>math score</th>\n",
       "      <th>reading score</th>\n",
       "      <th>writing score</th>\n",
       "    </tr>\n",
       "  </thead>\n",
       "  <tbody>\n",
       "    <tr>\n",
       "      <th>999</th>\n",
       "      <td>male</td>\n",
       "      <td>group E</td>\n",
       "      <td>bachelor's degree</td>\n",
       "      <td>standard</td>\n",
       "      <td>completed</td>\n",
       "      <td>100</td>\n",
       "      <td>100</td>\n",
       "      <td>100</td>\n",
       "    </tr>\n",
       "    <tr>\n",
       "      <th>998</th>\n",
       "      <td>male</td>\n",
       "      <td>group E</td>\n",
       "      <td>associate's degree</td>\n",
       "      <td>free/reduced</td>\n",
       "      <td>completed</td>\n",
       "      <td>100</td>\n",
       "      <td>100</td>\n",
       "      <td>93</td>\n",
       "    </tr>\n",
       "    <tr>\n",
       "      <th>997</th>\n",
       "      <td>male</td>\n",
       "      <td>group D</td>\n",
       "      <td>some college</td>\n",
       "      <td>standard</td>\n",
       "      <td>completed</td>\n",
       "      <td>100</td>\n",
       "      <td>97</td>\n",
       "      <td>99</td>\n",
       "    </tr>\n",
       "    <tr>\n",
       "      <th>996</th>\n",
       "      <td>male</td>\n",
       "      <td>group A</td>\n",
       "      <td>some college</td>\n",
       "      <td>standard</td>\n",
       "      <td>completed</td>\n",
       "      <td>100</td>\n",
       "      <td>96</td>\n",
       "      <td>86</td>\n",
       "    </tr>\n",
       "    <tr>\n",
       "      <th>517</th>\n",
       "      <td>female</td>\n",
       "      <td>group E</td>\n",
       "      <td>associate's degree</td>\n",
       "      <td>standard</td>\n",
       "      <td>none</td>\n",
       "      <td>100</td>\n",
       "      <td>100</td>\n",
       "      <td>100</td>\n",
       "    </tr>\n",
       "    <tr>\n",
       "      <th>...</th>\n",
       "      <td>...</td>\n",
       "      <td>...</td>\n",
       "      <td>...</td>\n",
       "      <td>...</td>\n",
       "      <td>...</td>\n",
       "      <td>...</td>\n",
       "      <td>...</td>\n",
       "      <td>...</td>\n",
       "    </tr>\n",
       "    <tr>\n",
       "      <th>854</th>\n",
       "      <td>male</td>\n",
       "      <td>group D</td>\n",
       "      <td>some high school</td>\n",
       "      <td>standard</td>\n",
       "      <td>completed</td>\n",
       "      <td>77</td>\n",
       "      <td>68</td>\n",
       "      <td>69</td>\n",
       "    </tr>\n",
       "    <tr>\n",
       "      <th>855</th>\n",
       "      <td>male</td>\n",
       "      <td>group E</td>\n",
       "      <td>associate's degree</td>\n",
       "      <td>free/reduced</td>\n",
       "      <td>completed</td>\n",
       "      <td>77</td>\n",
       "      <td>69</td>\n",
       "      <td>68</td>\n",
       "    </tr>\n",
       "    <tr>\n",
       "      <th>856</th>\n",
       "      <td>male</td>\n",
       "      <td>group E</td>\n",
       "      <td>some high school</td>\n",
       "      <td>standard</td>\n",
       "      <td>completed</td>\n",
       "      <td>77</td>\n",
       "      <td>76</td>\n",
       "      <td>77</td>\n",
       "    </tr>\n",
       "    <tr>\n",
       "      <th>415</th>\n",
       "      <td>female</td>\n",
       "      <td>group B</td>\n",
       "      <td>master's degree</td>\n",
       "      <td>free/reduced</td>\n",
       "      <td>completed</td>\n",
       "      <td>77</td>\n",
       "      <td>97</td>\n",
       "      <td>94</td>\n",
       "    </tr>\n",
       "    <tr>\n",
       "      <th>414</th>\n",
       "      <td>female</td>\n",
       "      <td>group A</td>\n",
       "      <td>high school</td>\n",
       "      <td>free/reduced</td>\n",
       "      <td>completed</td>\n",
       "      <td>77</td>\n",
       "      <td>88</td>\n",
       "      <td>85</td>\n",
       "    </tr>\n",
       "  </tbody>\n",
       "</table>\n",
       "<p>255 rows × 8 columns</p>\n",
       "</div>"
      ],
      "text/plain": [
       "     gender race/ethnicity parental level of education         lunch  \\\n",
       "999    male        group E           bachelor's degree      standard   \n",
       "998    male        group E          associate's degree  free/reduced   \n",
       "997    male        group D                some college      standard   \n",
       "996    male        group A                some college      standard   \n",
       "517  female        group E          associate's degree      standard   \n",
       "..      ...            ...                         ...           ...   \n",
       "854    male        group D            some high school      standard   \n",
       "855    male        group E          associate's degree  free/reduced   \n",
       "856    male        group E            some high school      standard   \n",
       "415  female        group B             master's degree  free/reduced   \n",
       "414  female        group A                 high school  free/reduced   \n",
       "\n",
       "    test preparation course  math score  reading score  writing score  \n",
       "999               completed         100            100            100  \n",
       "998               completed         100            100             93  \n",
       "997               completed         100             97             99  \n",
       "996               completed         100             96             86  \n",
       "517                    none         100            100            100  \n",
       "..                      ...         ...            ...            ...  \n",
       "854               completed          77             68             69  \n",
       "855               completed          77             69             68  \n",
       "856               completed          77             76             77  \n",
       "415               completed          77             97             94  \n",
       "414               completed          77             88             85  \n",
       "\n",
       "[255 rows x 8 columns]"
      ]
     },
     "execution_count": 13,
     "metadata": {},
     "output_type": "execute_result"
    }
   ],
   "source": [
    "#e. The management needs your help to give bonus points to the top 25% of students based on their math score, \n",
    "#so how will you help the management to achieve this.\n",
    "\n",
    "quartile_75 = score_data['math score'].quantile(q=0.75)\n",
    "print('The below table contains the information of top 25% scorers in math:-')\n",
    "score_data[score_data['math score'].ge(quartile_75)].sort_values(['math score'],ascending = False)\n"
   ]
  },
  {
   "cell_type": "code",
   "execution_count": null,
   "id": "ece637a7",
   "metadata": {},
   "outputs": [],
   "source": []
  }
 ],
 "metadata": {
  "kernelspec": {
   "display_name": "Python 3 (ipykernel)",
   "language": "python",
   "name": "python3"
  },
  "language_info": {
   "codemirror_mode": {
    "name": "ipython",
    "version": 3
   },
   "file_extension": ".py",
   "mimetype": "text/x-python",
   "name": "python",
   "nbconvert_exporter": "python",
   "pygments_lexer": "ipython3",
   "version": "3.11.4"
  }
 },
 "nbformat": 4,
 "nbformat_minor": 5
}
