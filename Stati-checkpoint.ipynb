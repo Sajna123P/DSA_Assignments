{
 "cells": [
  {
   "cell_type": "code",
   "execution_count": null,
   "id": "44382152",
   "metadata": {},
   "outputs": [],
   "source": [
    "#2. A company started to invest in digital marketing as a new way of their product promotions. For that they collected \n",
    "#data and decided to carry out a study on it.\n",
    "#a. The company wishes to clarify whether there is any increase in sales after stepping into digital marketing.\n",
    "\n",
    "import scipy.stats as stats\n",
    "import pandas as pd\n",
    "import numpy as np\n",
    "\n",
    "data = pd.read_csv('Sales_add.csv')\n",
    "\n",
    "alpha = 0.05\n",
    "t_value,p_value = stats.ttest_ind(data['Sales_before_digital_add(in $)'],data['Sales_After_digital_add(in $)'])\n",
    "if p_value < alpha:\n",
    "    print('Reject null hypothesis: The digital marketing strategy has increased sales')\n",
    "else:\n",
    "    print('Do not reject null hypothesis: The digital marketing strategy does not have any effect on sales ')\n",
    "    "
   ]
  },
  {
   "cell_type": "code",
   "execution_count": null,
   "id": "9718786f",
   "metadata": {},
   "outputs": [],
   "source": [
    "#b. The company needs to check whether there is any dependency between the features “Region” and “Manager”.\n",
    "\n",
    "import statsmodels.api as sm\n",
    "from statsmodels.formula.api import ols\n",
    "\n",
    "data['Sales'] = data['Sales_After_digital_add(in $)']\n",
    "\n",
    "sales_model = ols('Sales ~ C(Region):C(Manager) + C(Region) + C(Manager)',data = data).fit()\n",
    "table = sm.stats.anova_lm(sales_model,typ = 2)\n",
    "print(table)"
   ]
  },
  {
   "cell_type": "code",
   "execution_count": null,
   "id": "2d98b117",
   "metadata": {},
   "outputs": [],
   "source": [
    "alpha = 0.05\n",
    "if table['PR(>F)'][2] < alpha:\n",
    "    print('There is significant dependancy between the features \"Region\" and \"Manager\" ')\n",
    "else:\n",
    "    print('There is no significant dependancy between the features \"Region\" and \"Manager\" ')"
   ]
  },
  {
   "cell_type": "code",
   "execution_count": null,
   "id": "244f8271",
   "metadata": {},
   "outputs": [],
   "source": [
    "#1. An Institution wishes to find out their student’s ability in mathematics, reading and writing skills. The Institution \n",
    "#wants to do an exploratory study to check the following information.\n",
    "#a. Find out how many males and females participated in the test\n",
    "\n",
    "score_data = pd.read_csv('Students_Performance.csv')\n",
    "print('\\nThe number of students participated in the test based on gender :-')\n",
    "score_data['gender'].value_counts()"
   ]
  },
  {
   "cell_type": "code",
   "execution_count": null,
   "id": "7a14a585",
   "metadata": {},
   "outputs": [],
   "source": [
    "#b. What do you think about the students' parental level of education?\n",
    "\n",
    "score_data['parental level of education'].value_counts()"
   ]
  },
  {
   "cell_type": "code",
   "execution_count": null,
   "id": "a4fa6932",
   "metadata": {},
   "outputs": [],
   "source": [
    "#c. Who scores the most on average for math, reading and writing based on\n",
    "#i. Gender\n",
    "#ii. Test preparation course\n",
    "\n",
    "print('THE AVERAGES TABLE:')\n",
    "score_data.groupby(by='gender')[['math score','reading score','writing score']].mean()"
   ]
  },
  {
   "cell_type": "code",
   "execution_count": null,
   "id": "41ed53e8",
   "metadata": {},
   "outputs": [],
   "source": [
    "print('THE AVERAGES TABLE:')\n",
    "print(score_data.groupby(by='test preparation course')[['math score','reading score','writing score']].mean())"
   ]
  },
  {
   "cell_type": "code",
   "execution_count": null,
   "id": "81acebf4",
   "metadata": {},
   "outputs": [],
   "source": [
    "# d. What do you think about the scoring variation for  math, reading and writing based on\n",
    "#i. Gender\n",
    "#ii. Test preparation course\n",
    "\n",
    "print('THE VARIANCES TABLE:')\n",
    "print(score_data.groupby(by='gender')[['math score','reading score','writing score']].var())\n",
    "print(score_data.groupby(by='test preparation course')[['math score','reading score','writing score']].var())\n"
   ]
  },
  {
   "cell_type": "code",
   "execution_count": null,
   "id": "910889a6",
   "metadata": {},
   "outputs": [],
   "source": [
    "#e. The management needs your help to give bonus points to the top 25% of students based on their math score, \n",
    "#so how will you help the management to achieve this.\n",
    "\n",
    "quartile_75 = score_data['math score'].quantile(q=0.75)\n",
    "print('The below table contains the information of top 25% scorers in math:-')\n",
    "score_data[score_data['math score'].ge(quartile_75)]"
   ]
  }
 ],
 "metadata": {
  "kernelspec": {
   "display_name": "Python 3 (ipykernel)",
   "language": "python",
   "name": "python3"
  },
  "language_info": {
   "codemirror_mode": {
    "name": "ipython",
    "version": 3
   },
   "file_extension": ".py",
   "mimetype": "text/x-python",
   "name": "python",
   "nbconvert_exporter": "python",
   "pygments_lexer": "ipython3",
   "version": "3.11.4"
  }
 },
 "nbformat": 4,
 "nbformat_minor": 5
}
